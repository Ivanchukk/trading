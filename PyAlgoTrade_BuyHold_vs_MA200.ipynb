{
  "nbformat": 4,
  "nbformat_minor": 0,
  "metadata": {
    "colab": {
      "name": "PyAlgoTrade_BuyHold_vs_MA200.ipynb",
      "provenance": [],
      "authorship_tag": "ABX9TyPZkH8zw/yrEbjUuUnI4+ZN",
      "include_colab_link": true
    },
    "kernelspec": {
      "name": "python3",
      "display_name": "Python 3"
    },
    "language_info": {
      "name": "python"
    }
  },
  "cells": [
    {
      "cell_type": "markdown",
      "metadata": {
        "id": "view-in-github",
        "colab_type": "text"
      },
      "source": [
        "<a href=\"https://colab.research.google.com/github/Ivanchukk/trading/blob/main/PyAlgoTrade_BuyHold_vs_MA200.ipynb\" target=\"_parent\"><img src=\"https://colab.research.google.com/assets/colab-badge.svg\" alt=\"Open In Colab\"/></a>"
      ]
    },
    {
      "cell_type": "code",
      "execution_count": 1,
      "metadata": {
        "id": "CsaBYz8JA5Fu"
      },
      "outputs": [],
      "source": [
        "# !pip install PyAlgoTrade yfinance pandas_market_calendars"
      ]
    },
    {
      "cell_type": "code",
      "source": [
        "import pandas\n",
        "import pandas_market_calendars as market_calendar\n",
        "\n",
        "from pyalgotrade import strategy\n",
        "from pyalgotrade.barfeed import yahoofeed\n",
        "from pyalgotrade.technical import ma\n",
        "from pyalgotrade import plotter\n",
        "from pyalgotrade.stratanalyzer import returns, drawdown, trades\n"
      ],
      "metadata": {
        "id": "889iobiWD4KT"
      },
      "execution_count": 13,
      "outputs": []
    },
    {
      "cell_type": "code",
      "source": [
        "data = yf.download(\"SPY\", start=\"1988-01-01\", end=\"2023-01-01\")\n",
        "data.to_csv(\"spy.csv\")"
      ],
      "metadata": {
        "colab": {
          "base_uri": "https://localhost:8080/"
        },
        "id": "_30Et_0YCO3b",
        "outputId": "95816cde-1860-4a12-81a4-0b2806e99b01"
      },
      "execution_count": 3,
      "outputs": [
        {
          "output_type": "stream",
          "name": "stdout",
          "text": [
            "\r[*********************100%***********************]  1 of 1 completed\n"
          ]
        }
      ]
    },
    {
      "cell_type": "code",
      "source": [
        "\n",
        "# get last days of month\n",
        "nyse = market_calendar.get_calendar('NYSE')\n",
        "df = nyse.schedule(start_date='2000-01-01', end_date='2021-12-31')\n",
        "df = df.groupby(df.index.strftime('%Y-%m')).tail(1)\n",
        "df['date'] = pd.to_datetime(df['market_open']).dt.date\n",
        "last_days_of_month = [date.isoformat() for date in df['date'].tolist()]\n",
        "\n",
        "class MovingAverageStrategy(strategy.BacktestingStrategy):\n",
        "    def __init__(self, feed, instrument):\n",
        "        super(MovingAverageStrategy, self).__init__(feed)\n",
        "        self.instrument = instrument\n",
        "        self.position = None\n",
        "        self.ma = ma.SMA(feed[instrument].getAdjCloseDataSeries(), 200)\n",
        "        self.setUseAdjustedValues(True)\n",
        "\n",
        "    def onEnterOk(self, position):\n",
        "        execInfo = position.getEntryOrder().getExecutionInfo()\n",
        "        self.info(f\"===== BUY at {execInfo.getPrice()} {execInfo.getQuantity()} =====\")\n",
        "\n",
        "    def onExitOk(self, position):\n",
        "        execInfo = position.getExitOrder().getExecutionInfo()\n",
        "        self.info(f\"===== SELL at {execInfo.getPrice()} =====\")\n",
        "        self.position = None\n",
        "    \n",
        "    def onBars(self, bars):\n",
        "        if self.ma[-1] is None:\n",
        "            return\n",
        "\n",
        "        bar = bars[self.instrument]\n",
        "        close = bar.getAdjClose()\n",
        "        date = bar.getDateTime().date().isoformat()\n",
        "\n",
        "        if date in last_days_of_month:\n",
        "            if self.position is None:\n",
        "                broker = self.getBroker()\n",
        "                cash = broker.getCash() * .98\n",
        "                \n",
        "                if date in last_days_of_month and close > self.ma[-1]:\n",
        "                    quantity = cash / close\n",
        "                    self.info(f\"buying at {close}, which is above {self.ma[-1]}\")\n",
        "                    self.position = self.enterLong(self.instrument, quantity)\n",
        "            \n",
        "            elif close < self.ma[-1] and self.position is not None:\n",
        "                self.info(f\"selling at {close}, which is below {self.ma[-1]}\")\n",
        "                self.position.exitMarket()\n",
        "                self.position = None\n",
        "\n",
        "\n",
        "# # Load the bar feed from the CSV file\n",
        "feed = yahoofeed.Feed()\n",
        "feed.addBarsFromCSV(\"spy\", \"spy.csv\")\n",
        "\n",
        "strategy = MovingAverageStrategy(feed, \"spy\")\n",
        "\n",
        "returnsAnalyzer = returns.Returns()\n",
        "tradesAnalyzer = trades.Trades()\n",
        "drawDownAnalyzer = drawdown.DrawDown()\n",
        "\n",
        "strategy.attachAnalyzer(returnsAnalyzer)\n",
        "strategy.attachAnalyzer(drawDownAnalyzer)\n",
        "strategy.attachAnalyzer(tradesAnalyzer)\n",
        "\n",
        "plt = plotter.StrategyPlotter(strategy) \n",
        "plt.getInstrumentSubplot(\"spy\").addDataSeries(\"200 day\", strategy.ma)\n",
        "\n",
        "strategy.run()\n",
        "\n",
        "plt.plot()\n",
        "\n",
        "print(\"Final portfolio value: $%.2f\" % strategy.getResult())\n",
        "print(\"Cumulative returns: %.2f %%\" % (returnsAnalyzer.getCumulativeReturns()[-1] * 100))\n",
        "print(\"Max. drawdown: %.2f %%\" % (drawDownAnalyzer.getMaxDrawDown() * 100))\n",
        "print(\"Longest drawdown duration: %s\" % (drawDownAnalyzer.getLongestDrawDownDuration()))\n",
        "\n",
        "print(\"\")\n",
        "print(\"Total trades: %d\" % (tradesAnalyzer.getCount()))\n",
        "if tradesAnalyzer.getCount() > 0:\n",
        "    profits = tradesAnalyzer.getAll()\n",
        "    print(\"Avg. profit: $%2.f\" % (profits.mean()))\n",
        "    print(\"Profits std. dev.: $%2.f\" % (profits.std()))\n",
        "    print(\"Max. profit: $%2.f\" % (profits.max()))\n",
        "    print(\"Min. profit: $%2.f\" % (profits.min()))\n",
        "    returns = tradesAnalyzer.getAllReturns()\n",
        "    print(\"Avg. return: %2.f %%\" % (returns.mean() * 100))\n",
        "    print(\"Returns std. dev.: %2.f %%\" % (returns.std() * 100))\n",
        "    print(\"Max. return: %2.f %%\" % (returns.max() * 100))\n",
        "    print(\"Min. return: %2.f %%\" % (returns.min() * 100))\n",
        "\n",
        "print(\"\")\n",
        "print(\"Profitable trades: %d\" % (tradesAnalyzer.getProfitableCount()))\n",
        "if tradesAnalyzer.getProfitableCount() > 0:\n",
        "    profits = tradesAnalyzer.getProfits()\n",
        "    print(\"Avg. profit: $%2.f\" % (profits.mean()))\n",
        "    print(\"Profits std. dev.: $%2.f\" % (profits.std()))\n",
        "    print(\"Max. profit: $%2.f\" % (profits.max()))\n",
        "    print(\"Min. profit: $%2.f\" % (profits.min()))\n",
        "    returns = tradesAnalyzer.getPositiveReturns()\n",
        "    print(\"Avg. return: %2.f %%\" % (returns.mean() * 100))\n",
        "    print(\"Returns std. dev.: %2.f %%\" % (returns.std() * 100))\n",
        "    print(\"Max. return: %2.f %%\" % (returns.max() * 100))\n",
        "    print(\"Min. return: %2.f %%\" % (returns.min() * 100))\n",
        "\n",
        "print(\"\")\n",
        "print(\"Unprofitable trades: %d\" % (tradesAnalyzer.getUnprofitableCount()))\n",
        "if tradesAnalyzer.getUnprofitableCount() > 0:\n",
        "    losses = tradesAnalyzer.getLosses()\n",
        "    print(\"Avg. loss: $%2.f\" % (losses.mean()))\n",
        "    print(\"Losses std. dev.: $%2.f\" % (losses.std()))\n",
        "    print(\"Max. loss: $%2.f\" % (losses.min()))\n",
        "    print(\"Min. loss: $%2.f\" % (losses.max()))\n",
        "    returns = tradesAnalyzer.getNegativeReturns()\n",
        "    print(\"Avg. return: %2.f %%\" % (returns.mean() * 100))\n",
        "    print(\"Returns std. dev.: %2.f %%\" % (returns.std() * 100))\n",
        "    print(\"Max. return: %2.f %%\" % (returns.max() * 100))\n",
        "    print(\"Min. return: %2.f %%\" % (returns.min() * 100))\n"
      ],
      "metadata": {
        "colab": {
          "base_uri": "https://localhost:8080/",
          "height": 1000
        },
        "id": "yDT0le13Eq16",
        "outputId": "444a1a2f-90d1-4816-edae-7a5f0254b7ad"
      },
      "execution_count": 14,
      "outputs": [
        {
          "output_type": "stream",
          "name": "stderr",
          "text": [
            "2000-01-31 00:00:00 strategy [INFO] buying at 92.65471649169922, which is above 89.91049030303941\n",
            "2000-02-01 00:00:00 strategy [INFO] ===== BUY at 92.77919174837167 10576 =====\n",
            "2000-09-29 00:00:00 strategy [INFO] selling at 96.0599136352539, which is below 96.53012229919428\n",
            "2000-10-02 00:00:00 strategy [INFO] ===== SELL at 96.49884855314724 =====\n",
            "2002-03-28 00:00:00 strategy [INFO] buying at 78.03416442871094, which is above 77.53186336517325\n",
            "2002-04-01 00:00:00 strategy [INFO] ===== BUY at 77.83656308927446 13052 =====\n",
            "2002-04-30 00:00:00 strategy [INFO] selling at 73.49601745605469, which is below 76.76565673828121\n",
            "2002-05-01 00:00:00 strategy [INFO] ===== SELL at 73.57096633452973 =====\n",
            "2003-04-30 00:00:00 strategy [INFO] buying at 63.69460678100586, which is above 60.73825389862061\n",
            "2003-05-01 00:00:00 strategy [INFO] ===== BUY at 63.701521915162346 15134 =====\n",
            "2007-12-31 00:00:00 strategy [INFO] selling at 110.33772277832031, which is below 111.47633007049555\n",
            "2008-01-02 00:00:00 strategy [INFO] ===== SELL at 110.579151855361 =====\n",
            "2009-05-29 00:00:00 strategy [INFO] buying at 72.0205078125, which is above 71.65002840042116\n",
            "2009-06-01 00:00:00 strategy [INFO] ===== BUY at 72.90784892418712 23038 =====\n",
            "2010-05-28 00:00:00 strategy [INFO] selling at 86.83578491210938, which is below 87.37034679412847\n",
            "2010-06-01 00:00:00 strategy [INFO] ===== SELL at 86.02591225827437 =====\n",
            "2010-09-30 00:00:00 strategy [INFO] buying at 91.53355407714844, which is above 88.97143100738533\n",
            "2010-10-01 00:00:00 strategy [INFO] ===== BUY at 92.22327251116165 21362 =====\n",
            "2011-08-31 00:00:00 strategy [INFO] selling at 99.45604705810547, which is below 103.99001857757563\n",
            "2011-09-01 00:00:00 strategy [INFO] ===== SELL at 99.51299212178495 =====\n",
            "2011-12-30 00:00:00 strategy [INFO] buying at 103.3045425415039, which is above 102.6296448135376\n",
            "2012-01-03 00:00:00 strategy [INFO] ===== BUY at 105.16483239663683 20405 =====\n",
            "2015-08-31 00:00:00 strategy [INFO] selling at 174.61032104492188, which is below 182.240179672241\n",
            "2015-09-01 00:00:00 strategy [INFO] ===== SELL at 170.59109434107575 =====\n",
            "2015-10-30 00:00:00 strategy [INFO] buying at 184.6282958984375, which is above 181.66136566162095\n",
            "2015-11-02 00:00:00 strategy [INFO] ===== BUY at 184.9746038825208 18503 =====\n",
            "2015-12-31 00:00:00 strategy [INFO] selling at 182.1006622314453, which is below 182.247241668701\n",
            "2016-01-04 00:00:00 strategy [INFO] ===== SELL at 179.08155698091758 =====\n",
            "2016-03-31 00:00:00 strategy [INFO] buying at 184.5212860107422, which is above 179.166123886108\n",
            "2016-04-01 00:00:00 strategy [INFO] ===== BUY at 183.4708522770678 17935 =====\n",
            "2018-10-31 00:00:00 strategy [INFO] selling at 255.01564025878906, which is below 258.50817619323686\n",
            "2018-11-01 00:00:00 strategy [INFO] ===== SELL at 255.92974929258833 =====\n",
            "2018-11-30 00:00:00 strategy [INFO] buying at 259.7460632324219, which is above 258.570231018066\n",
            "2018-12-03 00:00:00 strategy [INFO] ===== BUY at 264.10889282839975 17644 =====\n",
            "2018-12-31 00:00:00 strategy [INFO] selling at 236.8757781982422, which is below 257.4260700988765\n",
            "2019-01-02 00:00:00 strategy [INFO] ===== SELL at 233.14143849836736 =====\n",
            "2019-02-28 00:00:00 strategy [INFO] buying at 264.1346740722656, which is above 258.4890653228756\n",
            "2019-03-01 00:00:00 strategy [INFO] ===== BUY at 265.802820226172 15323 =====\n",
            "2019-05-31 00:00:00 strategy [INFO] selling at 262.0518798828125, which is below 262.26082855224575\n",
            "2019-06-03 00:00:00 strategy [INFO] ===== SELL at 262.09001607284506 =====\n",
            "2019-06-28 00:00:00 strategy [INFO] buying at 280.2871398925781, which is above 262.8438049316402\n",
            "2019-07-01 00:00:00 strategy [INFO] ===== BUY at 283.80745917893466 14241 =====\n",
            "2020-02-28 00:00:00 strategy [INFO] selling at 286.11431884765625, which is below 292.13313720703053\n",
            "2020-03-02 00:00:00 strategy [INFO] ===== SELL at 287.99750463664236 =====\n",
            "2020-05-29 00:00:00 strategy [INFO] buying at 295.62646484375, which is above 289.0876001739494\n",
            "2020-06-01 00:00:00 strategy [INFO] ===== BUY at 294.9464308173911 13700 =====\n"
          ]
        },
        {
          "output_type": "display_data",
          "data": {
            "text/plain": [
              "<Figure size 432x288 with 2 Axes>"
            ],
            "image/png": "[encoded data removed]"
          },
          "metadata": {
            "needs_background": "light"
          }
        },
        {
          "output_type": "stream",
          "name": "stdout",
          "text": [
            "Final portfolio value: $5591932.96\n",
            "Cumulative returns: 459.19 %\n",
            "Max. drawdown: 22.44 %\n",
            "Longest drawdown duration: 1253 days, 0:00:00\n",
            "\n",
            "Total trades: 11\n",
            "Avg. profit: $284816\n",
            "Profits std. dev.: $565651\n",
            "Max. profit: $1335023\n",
            "Min. profit: $-546390\n",
            "Avg. return: 17 %\n",
            "Returns std. dev.: 28 %\n",
            "Max. return: 74 %\n",
            "Min. return: -12 %\n",
            "\n",
            "Profitable trades: 7\n",
            "Avg. profit: $557281\n",
            "Profits std. dev.: $523885\n",
            "Max. profit: $1335023\n",
            "Min. profit: $39339\n",
            "Avg. return: 30 %\n",
            "Returns std. dev.: 27 %\n",
            "Max. return: 74 %\n",
            "Min. return:  1 %\n",
            "\n",
            "Unprofitable trades: 4\n",
            "Avg. loss: $-191999\n",
            "Losses std. dev.: $205739\n",
            "Max. loss: $-546390\n",
            "Min. loss: $-55675\n",
            "Avg. return: -5 %\n",
            "Returns std. dev.:  4 %\n",
            "Max. return: -1 %\n",
            "Min. return: -12 %\n"
          ]
        }
      ]
    },
    {
      "cell_type": "code",
      "source": [
        ""
      ],
      "metadata": {
        "id": "kPTCh-OaEq4S"
      },
      "execution_count": 5,
      "outputs": []
    },
    {
      "cell_type": "code",
      "source": [
        ""
      ],
      "metadata": {
        "id": "xFJF10wFEq6y"
      },
      "execution_count": 5,
      "outputs": []
    },
    {
      "cell_type": "code",
      "source": [
        ""
      ],
      "metadata": {
        "id": "LsJeC_9tEq9C"
      },
      "execution_count": 5,
      "outputs": []
    },
    {
      "cell_type": "code",
      "source": [
        ""
      ],
      "metadata": {
        "id": "_1Y4h7o4Eq_a"
      },
      "execution_count": 5,
      "outputs": []
    },
    {
      "cell_type": "code",
      "source": [
        ""
      ],
      "metadata": {
        "id": "hrAeZYBRErBy"
      },
      "execution_count": 5,
      "outputs": []
    },
    {
      "cell_type": "code",
      "source": [
        ""
      ],
      "metadata": {
        "id": "P5AhUuStErEC"
      },
      "execution_count": 5,
      "outputs": []
    },
    {
      "cell_type": "code",
      "source": [
        ""
      ],
      "metadata": {
        "id": "4G4Z77JnErGq"
      },
      "execution_count": 5,
      "outputs": []
    }
  ]
}